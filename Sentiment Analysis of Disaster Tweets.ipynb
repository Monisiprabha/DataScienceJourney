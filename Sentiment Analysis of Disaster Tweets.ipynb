{
 "cells": [
  {
   "cell_type": "markdown",
   "id": "bb0d639d",
   "metadata": {},
   "source": [
    "# Required Libraries"
   ]
  },
  {
   "cell_type": "code",
   "execution_count": 22,
   "id": "ce3cf787",
   "metadata": {},
   "outputs": [
    {
     "name": "stderr",
     "output_type": "stream",
     "text": [
      "[nltk_data] Downloading package stopwords to C:\\Users\\s monisi\n",
      "[nltk_data]     prabha\\AppData\\Roaming\\nltk_data...\n",
      "[nltk_data]   Package stopwords is already up-to-date!\n",
      "[nltk_data] Downloading package wordnet to C:\\Users\\s monisi\n",
      "[nltk_data]     prabha\\AppData\\Roaming\\nltk_data...\n",
      "[nltk_data]   Package wordnet is already up-to-date!\n"
     ]
    },
    {
     "data": {
      "text/plain": [
       "True"
      ]
     },
     "execution_count": 22,
     "metadata": {},
     "output_type": "execute_result"
    }
   ],
   "source": [
    "import pandas as pd\n",
    "import numpy as np\n",
    "from sklearn.model_selection import train_test_split\n",
    "from sklearn.feature_extraction.text import CountVectorizer, TfidfVectorizer\n",
    "from sklearn.naive_bayes import MultinomialNB\n",
    "from sklearn.linear_model import LogisticRegression\n",
    "from sklearn.neighbors import KNeighborsClassifier\n",
    "from sklearn.metrics import confusion_matrix, classification_report, accuracy_score\n",
    "import re\n",
    "import nltk\n",
    "from nltk.corpus import stopwords\n",
    "from nltk.stem import WordNetLemmatizer\n",
    "nltk.download('stopwords')\n",
    "nltk.download('wordnet')"
   ]
  },
  {
   "cell_type": "markdown",
   "id": "9d9ceb87",
   "metadata": {},
   "source": [
    "# Load dataset"
   ]
  },
  {
   "cell_type": "code",
   "execution_count": 23,
   "id": "5c314ce9",
   "metadata": {},
   "outputs": [],
   "source": [
    "file_path = r'C:\\Users\\s monisi prabha\\Downloads\\disaster_tweets_data(DS).csv' \n",
    "data = pd.read_csv(file_path)"
   ]
  },
  {
   "cell_type": "markdown",
   "id": "6fcb60ca",
   "metadata": {},
   "source": [
    "# Handle missing values\n"
   ]
  },
  {
   "cell_type": "code",
   "execution_count": 24,
   "id": "ef4bd048",
   "metadata": {},
   "outputs": [],
   "source": [
    "data = data.dropna()"
   ]
  },
  {
   "cell_type": "markdown",
   "id": "cd987ef8",
   "metadata": {},
   "source": [
    "# Preprocess tweets"
   ]
  },
  {
   "cell_type": "code",
   "execution_count": 25,
   "id": "5418616c",
   "metadata": {},
   "outputs": [],
   "source": [
    "def preprocess_text(text):\n",
    "    text = re.sub(r'http\\S+|www\\S+|https\\S+', '', text, flags=re.MULTILINE)  # Remove URLs\n",
    "    text = re.sub(r'\\@w+|\\#','', text)  # Remove mentions and hashtags\n",
    "    text = re.sub(r'[^\\w\\s]', '', text)  # Remove punctuations\n",
    "    text = text.lower()  # Convert to lowercase\n",
    "    tokens = text.split()  # Tokenize the text\n",
    "    tokens = [word for word in tokens if word not in stopwords.words('english')]  # Remove stopwords\n",
    "    lemmatizer = WordNetLemmatizer()\n",
    "    tokens = [lemmatizer.lemmatize(word) for word in tokens]  # Lemmatize words\n",
    "    return ' '.join(tokens)\n"
   ]
  },
  {
   "cell_type": "markdown",
   "id": "8ab7dcc7",
   "metadata": {},
   "source": [
    "# Apply preprocessing to the dataset"
   ]
  },
  {
   "cell_type": "code",
   "execution_count": 26,
   "id": "a01c4baa",
   "metadata": {
    "scrolled": false
   },
   "outputs": [],
   "source": [
    "data['tweets'] = data['tweets'].apply(preprocess_text)"
   ]
  },
  {
   "cell_type": "markdown",
   "id": "2ededb4c",
   "metadata": {},
   "source": [
    "# Convert tweets into vectors using CountVectorizer or TF-IDF\n",
    "# Using TF-IDF"
   ]
  },
  {
   "cell_type": "code",
   "execution_count": 27,
   "id": "cd6a5694",
   "metadata": {},
   "outputs": [],
   "source": [
    "vectorizer = TfidfVectorizer(max_features=5000)\n",
    "x = vectorizer.fit_transform(data['tweets']).toarray()"
   ]
  },
  {
   "cell_type": "markdown",
   "id": "fdd3d68f",
   "metadata": {},
   "source": [
    "# Split data into training and testing"
   ]
  },
  {
   "cell_type": "code",
   "execution_count": 28,
   "id": "9a3b75f4",
   "metadata": {},
   "outputs": [],
   "source": [
    "y = data['target']\n",
    "x_train, x_test, y_train, y_test = train_test_split(x, y, test_size=0.2, random_state=42)\n"
   ]
  },
  {
   "cell_type": "markdown",
   "id": "1a37cbf7",
   "metadata": {},
   "source": [
    "# Multinomial Naive Bayes"
   ]
  },
  {
   "cell_type": "code",
   "execution_count": 29,
   "id": "35935981",
   "metadata": {},
   "outputs": [],
   "source": [
    "nb_model = MultinomialNB()\n",
    "nb_model.fit(x_train, y_train)\n",
    "y_pred_nb = nb_model.predict(x_test)\n"
   ]
  },
  {
   "cell_type": "markdown",
   "id": "06b6c10a",
   "metadata": {},
   "source": [
    "# Logistic Regression"
   ]
  },
  {
   "cell_type": "code",
   "execution_count": 30,
   "id": "ced328c5",
   "metadata": {},
   "outputs": [],
   "source": [
    "lr_model = LogisticRegression(max_iter=1000)\n",
    "lr_model.fit(x_train, y_train)\n",
    "y_pred_lr = lr_model.predict(x_test)\n"
   ]
  },
  {
   "cell_type": "markdown",
   "id": "fc44c099",
   "metadata": {},
   "source": [
    "# K-Nearest Neighbors"
   ]
  },
  {
   "cell_type": "code",
   "execution_count": 31,
   "id": "f543ccda",
   "metadata": {},
   "outputs": [],
   "source": [
    "knn_model = KNeighborsClassifier(n_neighbors=5)\n",
    "knn_model.fit(x_train, y_train)\n",
    "y_pred_knn = knn_model.predict(x_test)"
   ]
  },
  {
   "cell_type": "markdown",
   "id": "fa6c7d58",
   "metadata": {},
   "source": [
    "#  Evaluate the models"
   ]
  },
  {
   "cell_type": "code",
   "execution_count": 32,
   "id": "9ba6af80",
   "metadata": {},
   "outputs": [],
   "source": [
    "def evaluate_model(y_test, y_pred, model_name):\n",
    "    print(f\"Model: {model_name}\")\n",
    "    print(\"Confusion Matrix:\\n\", confusion_matrix(y_test, y_pred))\n",
    "    print(\"Classification Report:\\n\", classification_report(y_test, y_pred))\n",
    "    print(\"Accuracy: \", accuracy_score(y_test, y_pred))\n",
    "    print(\"\\n\")"
   ]
  },
  {
   "cell_type": "markdown",
   "id": "372b6521",
   "metadata": {},
   "source": [
    "# Evaluate NB"
   ]
  },
  {
   "cell_type": "code",
   "execution_count": 33,
   "id": "3d802083",
   "metadata": {},
   "outputs": [
    {
     "name": "stdout",
     "output_type": "stream",
     "text": [
      "Model: Multinomial Naive Bayes\n",
      "Confusion Matrix:\n",
      " [[772 102]\n",
      " [205 444]]\n",
      "Classification Report:\n",
      "               precision    recall  f1-score   support\n",
      "\n",
      "           0       0.79      0.88      0.83       874\n",
      "           1       0.81      0.68      0.74       649\n",
      "\n",
      "    accuracy                           0.80      1523\n",
      "   macro avg       0.80      0.78      0.79      1523\n",
      "weighted avg       0.80      0.80      0.80      1523\n",
      "\n",
      "Accuracy:  0.7984241628365069\n",
      "\n",
      "\n"
     ]
    }
   ],
   "source": [
    "evaluate_model(y_test, y_pred_nb, \"Multinomial Naive Bayes\")"
   ]
  },
  {
   "cell_type": "markdown",
   "id": "420239fb",
   "metadata": {},
   "source": [
    "# Evaluate LR"
   ]
  },
  {
   "cell_type": "code",
   "execution_count": 34,
   "id": "25ebd06c",
   "metadata": {},
   "outputs": [
    {
     "name": "stdout",
     "output_type": "stream",
     "text": [
      "Model: Logistic Regression\n",
      "Confusion Matrix:\n",
      " [[776  98]\n",
      " [211 438]]\n",
      "Classification Report:\n",
      "               precision    recall  f1-score   support\n",
      "\n",
      "           0       0.79      0.89      0.83       874\n",
      "           1       0.82      0.67      0.74       649\n",
      "\n",
      "    accuracy                           0.80      1523\n",
      "   macro avg       0.80      0.78      0.79      1523\n",
      "weighted avg       0.80      0.80      0.79      1523\n",
      "\n",
      "Accuracy:  0.7971109652002626\n",
      "\n",
      "\n"
     ]
    }
   ],
   "source": [
    "evaluate_model(y_test, y_pred_lr, \"Logistic Regression\")"
   ]
  },
  {
   "cell_type": "markdown",
   "id": "5989333c",
   "metadata": {},
   "source": [
    "# Evaluate KNN"
   ]
  },
  {
   "cell_type": "code",
   "execution_count": 35,
   "id": "1e6b47ab",
   "metadata": {},
   "outputs": [
    {
     "name": "stdout",
     "output_type": "stream",
     "text": [
      "Model: KNN\n",
      "Confusion Matrix:\n",
      " [[858  16]\n",
      " [462 187]]\n",
      "Classification Report:\n",
      "               precision    recall  f1-score   support\n",
      "\n",
      "           0       0.65      0.98      0.78       874\n",
      "           1       0.92      0.29      0.44       649\n",
      "\n",
      "    accuracy                           0.69      1523\n",
      "   macro avg       0.79      0.63      0.61      1523\n",
      "weighted avg       0.77      0.69      0.64      1523\n",
      "\n",
      "Accuracy:  0.6861457649376231\n",
      "\n",
      "\n"
     ]
    }
   ],
   "source": [
    "evaluate_model(y_test, y_pred_knn, \"KNN\")"
   ]
  },
  {
   "cell_type": "markdown",
   "id": "88886df6",
   "metadata": {},
   "source": [
    "# Compare accuracies and select the best model"
   ]
  },
  {
   "cell_type": "code",
   "execution_count": 36,
   "id": "ef2f31c6",
   "metadata": {},
   "outputs": [
    {
     "name": "stdout",
     "output_type": "stream",
     "text": [
      "Best model: Multinomial Naive Bayes with accuracy 0.7984\n"
     ]
    }
   ],
   "source": [
    "models = {\n",
    "    \"Multinomial Naive Bayes\": accuracy_score(y_test, y_pred_nb),\n",
    "    \"Logistic Regression\": accuracy_score(y_test, y_pred_lr),\n",
    "    \"KNN\": accuracy_score(y_test, y_pred_knn)\n",
    "}\n",
    "\n",
    "best_model = max(models, key=models.get)\n",
    "print(f\"Best model: {best_model} with accuracy {models[best_model]:.4f}\")"
   ]
  }
 ],
 "metadata": {
  "kernelspec": {
   "display_name": "Python 3",
   "language": "python",
   "name": "python3"
  },
  "language_info": {
   "codemirror_mode": {
    "name": "ipython",
    "version": 3
   },
   "file_extension": ".py",
   "mimetype": "text/x-python",
   "name": "python",
   "nbconvert_exporter": "python",
   "pygments_lexer": "ipython3",
   "version": "3.8.8"
  }
 },
 "nbformat": 4,
 "nbformat_minor": 5
}
